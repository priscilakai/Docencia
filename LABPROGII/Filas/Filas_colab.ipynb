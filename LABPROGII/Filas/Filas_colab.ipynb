{
  "nbformat": 4,
  "nbformat_minor": 0,
  "metadata": {
    "colab": {
      "provenance": [],
      "mount_file_id": "1B8SrX1v6L_ukTcM5m7xONDm4s2oueVte",
      "authorship_tag": "ABX9TyMgnKOc41PvXkFBRbRDo4hx",
      "include_colab_link": true
    },
    "kernelspec": {
      "name": "python3",
      "display_name": "Python 3"
    },
    "language_info": {
      "name": "python"
    }
  },
  "cells": [
    {
      "cell_type": "markdown",
      "metadata": {
        "id": "view-in-github",
        "colab_type": "text"
      },
      "source": [
        "<a href=\"https://colab.research.google.com/github/priscilakai/Docencia/blob/main/LABPROGII/Filas/Filas_colab.ipynb\" target=\"_parent\"><img src=\"https://colab.research.google.com/assets/colab-badge.svg\" alt=\"Open In Colab\"/></a>"
      ]
    },
    {
      "cell_type": "markdown",
      "source": [
        "FILAS EM C"
      ],
      "metadata": {
        "id": "V1PO4kc4vnPX"
      }
    },
    {
      "cell_type": "code",
      "source": [
        "%%writefile /content/drive/MyDrive/Disciplinas/Codes/C/Filas/filas_c.cpp\n",
        "\n",
        "/*\n",
        "Neste arquivo, apenas as funções enqueue() e dequeue() são apresentadas\n",
        "Faça uma solução completa para simular uma fila de inteiros. Faça uso de laços para observar o comportamento FIFO\n",
        "*/\n",
        "\n",
        "#include <stdio.h>\n",
        "#define MAX 100\n",
        "\n",
        "/* as funções enqueue e dequeue armazenarão as posições para os números adicionados. */\n",
        "char queue[MAX];\n",
        "\n",
        "// spos e rpos são variáveis globais\n",
        "int spos = 0; //contém o índice da próxima posição de armazenamento livre\n",
        "int rpos = 0; //contém o índice do próxima evento a ser recuperado\n",
        "\n",
        "/*Armazena um inteiro*/\n",
        "void enqueue(int item)\n",
        "{\n",
        "    if(spos==MAX)\n",
        "    {\n",
        "        printf(\"Fila cheia!\\n\");\n",
        "        return;\n",
        "    }\n",
        "    else\n",
        "    {\n",
        "        printf(\"Item %d adicionado com sucesso a fila!\\n\",item);\n",
        "    }\n",
        "    queue[spos] = item;\n",
        "    spos++;\n",
        "}\n",
        "\n",
        "/*Recupera um evento*/\n",
        "int dequeue()\n",
        "{\n",
        "    int item;\n",
        "    if(rpos==spos)\n",
        "    {\n",
        "        printf(\"Fila vazia.\\n\");\n",
        "        return -1;\n",
        "    }\n",
        "    item = queue[rpos];\n",
        "    rpos++;\n",
        "    return item;\n",
        "}\n",
        "\n",
        "int main()\n",
        "{\n",
        "    int i;\n",
        "    for(i=0;i<=10;i++){\n",
        "        enqueue(i);\n",
        "    }\n",
        "    int item = dequeue();\n",
        "    if (item != -1) {\n",
        "        while (item != -1){\n",
        "            printf(\"O número %d foi desenfileirado.\\n\", item);\n",
        "            item = dequeue();\n",
        "        }\n",
        "    }\n",
        "    return 0;\n",
        "}"
      ],
      "metadata": {
        "id": "jSEt3YLNBa0N"
      },
      "execution_count": null,
      "outputs": []
    },
    {
      "cell_type": "markdown",
      "source": [
        "FILAS EM C++"
      ],
      "metadata": {
        "id": "giHJKcEUvuvn"
      }
    },
    {
      "cell_type": "code",
      "source": [
        "%%writefile /content/drive/MyDrive/Disciplinas/Codes/C/Filas/fila.cpp\n",
        "\n",
        "#include <iostream>\n",
        "using namespace std;\n",
        "\n",
        "#define MAX 100\n",
        "\n",
        "/* as funções enqueue e dequeue armazenarão as posições para os números adicionados. */\n",
        "char queue[MAX];\n",
        "\n",
        "// spos e rpos são variáveis globais\n",
        "int spos = 0; //contém o índice da próxima posição de armazenamento livre\n",
        "int rpos = 0; //contém o índice do próxima evento a ser recuperado\n",
        "\n",
        "/*Armazena um inteiro*/\n",
        "void enqueue(int item)\n",
        "{\n",
        "    if(spos==MAX)\n",
        "    {\n",
        "        cout << \"Fila cheia!\" << endl;\n",
        "        return;\n",
        "    }\n",
        "    else\n",
        "        cout << \"Item \" << item << \" adicionado com sucesso a fila!\" << endl;\n",
        "    queue[spos] = item;\n",
        "    spos++;\n",
        "}\n",
        "\n",
        "/*Recupera um evento*/\n",
        "int dequeue()\n",
        "{\n",
        "    int item;\n",
        "    if(rpos==spos)\n",
        "    {\n",
        "        cout << \"Fila vazia.\" << endl;\n",
        "        return -1;\n",
        "    }\n",
        "    item = queue[rpos];\n",
        "    rpos++;\n",
        "    return item;\n",
        "}\n",
        "\n",
        "int main()\n",
        "{\n",
        "    int i;\n",
        "    for(i=0;i<=10;i++){\n",
        "        enqueue(i);\n",
        "    }\n",
        "    int item = dequeue();\n",
        "    if (item != -1) {\n",
        "        while (item != -1){\n",
        "            cout << \"O número \" << item <<\" foi desenfileirado.\" << endl;\n",
        "            item = dequeue();\n",
        "        }\n",
        "    }\n",
        "    return 0;\n",
        "}"
      ],
      "metadata": {
        "id": "rXKYnWeVxo9F",
        "colab": {
          "base_uri": "https://localhost:8080/"
        },
        "outputId": "992ae20a-8421-4aa2-b192-215f593e72d2"
      },
      "execution_count": 3,
      "outputs": [
        {
          "output_type": "stream",
          "name": "stdout",
          "text": [
            "Overwriting /content/drive/MyDrive/Disciplinas/Codes/C/Filas/fila.cpp\n"
          ]
        }
      ]
    },
    {
      "cell_type": "markdown",
      "source": [
        "FILA CIRCULAR"
      ],
      "metadata": {
        "id": "2LuLgWLrutwX"
      }
    },
    {
      "cell_type": "code",
      "source": [
        "%%writefile /content/drive/MyDrive/Disciplinas/Codes/C/Filas/filas_circular.cpp\n",
        "\n",
        "/*\n",
        "Neste arquivo, apenas as funções enqueue() e dequeue() são apresentadas\n",
        "Faça uma solução completa para simular uma fila de inteiros. Faça uso de laços para observar o comportamento FIFO\n",
        "*/\n",
        "\n",
        "#include <stdio.h>\n",
        "#define MAX 10\n",
        "\n",
        "/* as funções enqueue e dequeue armazenarão as posições para os números adicionados. */\n",
        "char queue[MAX];\n",
        "\n",
        "// spos e rpos são variáveis globais\n",
        "int spos = 0; //contém o índice da próxima posição de armazenamento livre\n",
        "int rpos = 0; //contém o índice do próxima evento a ser recuperado\n",
        "int size = 0;\n",
        "\n",
        "/*Armazena um inteiro*/\n",
        "void enqueue(int item)\n",
        "{\n",
        "    if(spos==MAX)\n",
        "    {\n",
        "        printf(\"Fila cheia!\\n\");\n",
        "        return;\n",
        "    }\n",
        "    else\n",
        "    {\n",
        "        printf(\"Item %d adicionado com sucesso a fila!\\n\",item);\n",
        "    }\n",
        "    queue[spos] = item;\n",
        "    spos = (spos+1)%MAX;    // Exemplo: 11%10 = 1, 21%10 = 1, 31%10 = 1\n",
        "    size++;\n",
        "}\n",
        "\n",
        "/*Recupera um evento*/\n",
        "int dequeue()\n",
        "{\n",
        "    int item;\n",
        "    if(size==0)\n",
        "    {\n",
        "        printf(\"Fila vazia.\\n\");\n",
        "        return -1;\n",
        "    }\n",
        "    item = queue[rpos];\n",
        "    rpos = (rpos+1)%MAX;\n",
        "    size--;\n",
        "    return item;\n",
        "}\n",
        "\n",
        "int main()\n",
        "{\n",
        "    int i;\n",
        "    for(i=0;i<=10;i++){\n",
        "        enqueue(i);\n",
        "    }\n",
        "    int item = dequeue();\n",
        "    if (item != -1) {\n",
        "        while (item != -1){\n",
        "            printf(\"O número %d foi desenfileirado.\\n\", item);\n",
        "            item = dequeue();\n",
        "        }\n",
        "    }\n",
        "        for(i=0;i<=9;i++){\n",
        "        enqueue(i);\n",
        "    }\n",
        "    return 0;\n",
        "}"
      ],
      "metadata": {
        "id": "9CvU3Mx4HdcN"
      },
      "execution_count": null,
      "outputs": []
    }
  ]
}