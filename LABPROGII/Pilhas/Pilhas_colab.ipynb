{
  "nbformat": 4,
  "nbformat_minor": 0,
  "metadata": {
    "colab": {
      "provenance": [],
      "mount_file_id": "1VXtabUtgu-_FwyjVDASc7L7OwnbgkIsv",
      "authorship_tag": "ABX9TyM/gRnRva5UxgRv0/7aiCCn",
      "include_colab_link": true
    },
    "kernelspec": {
      "name": "python3",
      "display_name": "Python 3"
    },
    "language_info": {
      "name": "python"
    }
  },
  "cells": [
    {
      "cell_type": "markdown",
      "metadata": {
        "id": "view-in-github",
        "colab_type": "text"
      },
      "source": [
        "<a href=\"https://colab.research.google.com/github/priscilakai/Docencia/blob/main/LABPROGII/Pilhas/Pilhas_colab.ipynb\" target=\"_parent\"><img src=\"https://colab.research.google.com/assets/colab-badge.svg\" alt=\"Open In Colab\"/></a>"
      ]
    },
    {
      "cell_type": "markdown",
      "source": [
        "PILHA - EXEMPLO"
      ],
      "metadata": {
        "id": "VrrCjaNBGP_P"
      }
    },
    {
      "cell_type": "code",
      "source": [
        "%%writefile /content/drive/MyDrive/Disciplinas/Codes/C/Pilha/pilha.cpp\n",
        "\n",
        "#include <iostream>\n",
        "using namespace std;\n",
        "\n",
        "#define MAX_SIZE 20\n",
        "\n",
        "int stack[MAX_SIZE];\n",
        "int tos = -1; // variável indicando pilha vazia\n",
        "\n",
        "// Função para adicionar um elemento na pilha\n",
        "void push(int i)\n",
        "{\n",
        "\tif(tos >= MAX_SIZE){\n",
        "\t\tcout << \"Pilha cheia!\" << endl;\n",
        "\t\treturn;\n",
        "\t}\n",
        "\ttos++;\n",
        "\tstack[tos] = i;\n",
        "}\n",
        "\n",
        "// Função para remover um elemento da pilha\n",
        "int pop()\n",
        "{\n",
        "\tif(tos <= -1){\n",
        "\t\tcout << \"Pilha vazia!\" << endl;\n",
        "\t\treturn 0;\n",
        "\t}\n",
        "\tint value = stack[tos];\n",
        "\ttos--;\n",
        "  return value;\n",
        "}\n",
        "\n",
        "// Função para imprimir elementos da pilha\n",
        "void display() {\n",
        "   if(tos >= 0) {\n",
        "      cout<<\"Os elementos da pilha são: \";\n",
        "      for(int i = tos; i >= 0; i--)\n",
        "      cout << stack[i] << \" - \";\n",
        "      cout << endl;\n",
        "   } else\n",
        "   cout << \"Pilha vazia!\" << endl;\n",
        "}\n",
        "\n",
        "int main() {\n",
        "   int ch, val;\n",
        "   cout << \"-----------Exemplo de Pilhas------------\" << endl;\n",
        "   do {\n",
        "      cout << \"----------------------------------------\" << endl;\n",
        "      cout << \"\\nOpções disponíveis: \" << endl;\n",
        "      cout << \"1) Inserir elemento da pilha\" << endl;\n",
        "      cout << \"2) Remover elemento da pilha\" << endl;\n",
        "      cout << \"3) Imprimir elementos da pilha\" << endl;\n",
        "      cout << \"4) Sair\" << endl;\n",
        "      cout << \"----------------------------------------\" << endl;\n",
        "      cout << \"\\nDigite o número da operação que deseja realizar: \";\n",
        "      cin >> ch;\n",
        "      cout << \"----------------------------------------\" << endl;\n",
        "      switch(ch) {\n",
        "         case 1:\n",
        "            cout << \"Digite o valor a ser inserido na pilha: \" << endl;\n",
        "            cin >> val;\n",
        "            push(val);\n",
        "            break;\n",
        "         case 2:\n",
        "            val = pop();\n",
        "            cout << \"O valor \" << val << \" foi removido da pilha.\" << endl;\n",
        "            break;\n",
        "         case 3:\n",
        "            display();\n",
        "            break;\n",
        "         case 4:\n",
        "            while(tos > -1){\n",
        "                val = pop();\n",
        "                cout << \"Remoção do valor \" << val << \" da pilha.\" << endl;\n",
        "            }\n",
        "            cout << \"Saindo da aplicação...\" << endl;\n",
        "            break;\n",
        "         default:\n",
        "            cout << \"Opção inválida!\" << endl;\n",
        "      }\n",
        "    } while(ch!=4);\n",
        "      return 0;\n",
        "}"
      ],
      "metadata": {
        "colab": {
          "base_uri": "https://localhost:8080/"
        },
        "id": "uyAZcmD8GO1b",
        "outputId": "fc5f3454-801a-4810-aa0c-94a848d35564"
      },
      "execution_count": null,
      "outputs": [
        {
          "output_type": "stream",
          "name": "stdout",
          "text": [
            "Overwriting /content/drive/MyDrive/Disciplinas/Codes/C/Pilha/pilha.cpp\n"
          ]
        }
      ]
    },
    {
      "cell_type": "code",
      "source": [
        "! g++ /content/drive/MyDrive/Disciplinas/Codes/C/Pilha/pilha.cpp -o pilha"
      ],
      "metadata": {
        "id": "7PjIxxkAK1vm"
      },
      "execution_count": null,
      "outputs": []
    },
    {
      "cell_type": "code",
      "source": [
        "! ./pilha"
      ],
      "metadata": {
        "id": "KwzstJKDLby2"
      },
      "execution_count": null,
      "outputs": []
    },
    {
      "cell_type": "markdown",
      "source": [
        "PILHA - VERIFICANDO EXPRESSÕES\n",
        "- Parênteses \"(\", \")\"\n",
        "- Colchetes \"[\", \"]\"\n",
        "- Chaves \"{\", \"}\"\n",
        "\n",
        "Exemplo\n",
        "- Entrada: [(x-1)+5/2]\n",
        "- Saída: \"Expressão válida\"\n",
        "\n",
        "- Entrada:inválidas [(x-1)+5/2\n",
        "- Saída: \"Expressão inválida\""
      ],
      "metadata": {
        "id": "7esTolcUD1yZ"
      }
    },
    {
      "cell_type": "code",
      "source": [
        "%%writefile /content/drive/MyDrive/Disciplinas/Codes/C/Pilha/pilha_expressao.cpp\n",
        "\n",
        "#include <iostream>\n",
        "#include <string>\n",
        "\n",
        "using namespace std;\n",
        "\n",
        "#define MAX_SIZE 20\n",
        "\n",
        "char stack[MAX_SIZE];\n",
        "int tos = -1; // variável indicando pilha vazia\n",
        "\n",
        "// Função para adicionar um elemento na pilha\n",
        "void push(char c)\n",
        "{\n",
        "\tif(tos >= MAX_SIZE - 1){\n",
        "\t\tcout << \"Pilha cheia!\" << endl;\n",
        "\t\treturn;\n",
        "\t}\n",
        "\ttos++;\n",
        "\tstack[tos] = c;\n",
        "}\n",
        "\n",
        "// Função para remover um elemento da pilha\n",
        "int pop()\n",
        "{\n",
        "\tif(tos <= -1){\n",
        "\t\tcout << \"Pilha vazia!\" << endl;\n",
        "\t\treturn 0;\n",
        "\t}\n",
        "\treturn stack[tos--];\n",
        "}\n",
        "\n",
        "bool is_valid(const string& input){\n",
        "    bool valid = true;\n",
        "    for(size_t i = 0; i < input.size(); i++){\n",
        "        if (input[i] == '(' || input[i] == '[' || input[i] == '{' ){\n",
        "            push(input[i]);\n",
        "        } else if (input[i] == ')' || input[i] == ']' || input[i] == '}' ){\n",
        "            if(tos <= -1){\n",
        "                valid = false;\n",
        "                break;\n",
        "            } else {\n",
        "                if ((input[i] == ')' && stack[tos] != '(') ||\n",
        "                    (input[i] == ']' && stack[tos] != '[') ||\n",
        "                    (input[i] == '}' && stack[tos] != '{')) {\n",
        "                    valid = false;\n",
        "                    break;\n",
        "                }\n",
        "                pop();\n",
        "            }\n",
        "        }\n",
        "    }\n",
        "    if(tos >= 0){\n",
        "        valid = false;\n",
        "    }\n",
        "    return valid;\n",
        "}\n",
        "\n",
        "int main() {\n",
        "   int ch, val;\n",
        "   cout << \"-----------Exemplo de Pilhas------------\" << endl;\n",
        "   do {\n",
        "      cout << \"----------------------------------------\" << endl;\n",
        "      cout << \"\\nOpções disponíveis: \" << endl;\n",
        "      cout << \"1) Informar expressão matemática\" << endl;\n",
        "      cout << \"2) Sair\" << endl;\n",
        "      cout << \"----------------------------------------\" << endl;\n",
        "      cout << \"\\nDigite o número da operação que deseja realizar: \";\n",
        "      cin >> ch;\n",
        "      cin.ignore(); // Descartar o caractere de nova linha remanescente\n",
        "      cout << \"----------------------------------------\" << endl;\n",
        "      switch(ch) {\n",
        "         case 1:\n",
        "         {\n",
        "            string input;\n",
        "            cout << \"Digite a expressão matemática que será verificada: \" << endl;\n",
        "            getline(cin, input);\n",
        "            if (is_valid(input))\n",
        "                cout << \"Expressão válida!\" << endl;\n",
        "            else\n",
        "                cout << \"Expressão inválida!\" << endl;\n",
        "            break;\n",
        "         }\n",
        "         case 2:\n",
        "         {\n",
        "            cout << \"Saindo da aplicação...\" << endl;\n",
        "            break;\n",
        "         }\n",
        "         default:\n",
        "            cout << \"Opção inválida!\" << endl;\n",
        "      }\n",
        "    } while(ch!=2);\n",
        "    return 0;\n",
        "}"
      ],
      "metadata": {
        "id": "1zLlABqLPxui",
        "colab": {
          "base_uri": "https://localhost:8080/"
        },
        "outputId": "659e07aa-2894-412c-ada9-c16a2d309ddb"
      },
      "execution_count": null,
      "outputs": [
        {
          "output_type": "stream",
          "name": "stdout",
          "text": [
            "Overwriting /content/drive/MyDrive/Disciplinas/Codes/C/Pilha/pilha_expressao.cpp\n"
          ]
        }
      ]
    },
    {
      "cell_type": "code",
      "source": [
        "! g++ /content/drive/MyDrive/Disciplinas/Codes/C/Pilha/pilha_expressao.cpp -o pilha_expressao"
      ],
      "metadata": {
        "id": "0Eyw3pOnqyUs"
      },
      "execution_count": null,
      "outputs": []
    },
    {
      "cell_type": "code",
      "source": [
        "! ./pilha_expressao"
      ],
      "metadata": {
        "id": "h_G_-q_hISVX"
      },
      "execution_count": null,
      "outputs": []
    },
    {
      "cell_type": "markdown",
      "source": [
        "PILHA - INVERTENDO STRINGS\n",
        "-  Faz a inverção das letras de cada palavra de um texto terminado por ponto (.) preservando a ordem das palavras."
      ],
      "metadata": {
        "id": "BjY_R83aFF8M"
      }
    },
    {
      "cell_type": "code",
      "source": [
        "%%writefile /content/drive/MyDrive/Disciplinas/Codes/C/Pilha/pilha_inversao.cpp\n",
        "\n",
        "#include <iostream>\n",
        "#include <string>\n",
        "\n",
        "using namespace std;\n",
        "\n",
        "#define MAX_SIZE 20\n",
        "\n",
        "char stack[MAX_SIZE];\n",
        "int tos = -1; // variável indicando pilha vazia\n",
        "\n",
        "// Função para adicionar um elemento na pilha\n",
        "void push(char c)\n",
        "{\n",
        "\tif(tos >= MAX_SIZE - 1){\n",
        "\t\tcout << \"Pilha cheia!\" << endl;\n",
        "\t\treturn;\n",
        "\t}\n",
        "\ttos++;\n",
        "\tstack[tos] = c;\n",
        "}\n",
        "\n",
        "// Função para remover um elemento da pilha\n",
        "char pop()\n",
        "{\n",
        "\tif(tos <= -1){\n",
        "\t\tcout << \"Pilha vazia!\" << endl;\n",
        "\t\treturn 0;\n",
        "\t}\n",
        "\treturn stack[tos--];\n",
        "}\n",
        "\n",
        "void inverte_frase(const string& input){\n",
        "    size_t i = 0;\n",
        "    while(i != input.size()){\n",
        "        push(input[i]);\n",
        "        i = i+1;\n",
        "        if (input[i] == '.'){\n",
        "            while(tos > -1){\n",
        "                cout << pop();\n",
        "            }\n",
        "            return;\n",
        "        }\n",
        "    }\n",
        "    cout << \"Ponto nao encontrado. Frase nao sera invertida!\" << endl;\n",
        "    while(tos > -1){\n",
        "        cout << pop();\n",
        "    }\n",
        "    return;\n",
        "}\n",
        "\n",
        "int main() {\n",
        "   int ch, val;\n",
        "   cout << \"-----------Exemplo de Pilhas------------\" << endl;\n",
        "   do {\n",
        "      cout << \"\\n----------------------------------------\" << endl;\n",
        "      cout << \"\\nOpções disponíveis: \" << endl;\n",
        "      cout << \"1) Informar frase a ser invertida\" << endl;\n",
        "      cout << \"2) Sair\" << endl;\n",
        "      cout << \"----------------------------------------\" << endl;\n",
        "      cout << \"\\nDigite o número da operação que deseja realizar: \";\n",
        "      cin >> ch;\n",
        "      cin.ignore(); // Descartar o caractere de nova linha remanescente\n",
        "      cout << \"\\n----------------------------------------\" << endl;\n",
        "      switch(ch) {\n",
        "         case 1:\n",
        "         {\n",
        "            string input;\n",
        "            cout << \"Digite a frase ou palavra a ser invertida: \" << endl;\n",
        "            getline(cin, input);\n",
        "            inverte_frase(input);\n",
        "            break;\n",
        "         }\n",
        "         case 2:\n",
        "         {\n",
        "            cout << \"Saindo da aplicação...\" << endl;\n",
        "            break;\n",
        "         }\n",
        "         default:\n",
        "            cout << \"Opção inválida!\" << endl;\n",
        "      }\n",
        "    } while(ch!=2);\n",
        "    return 0;\n",
        "}"
      ],
      "metadata": {
        "colab": {
          "base_uri": "https://localhost:8080/"
        },
        "id": "3Rkkad0xVusz",
        "outputId": "fa638d29-e6d9-41f8-d88b-a1d47ff357cc"
      },
      "execution_count": null,
      "outputs": [
        {
          "output_type": "stream",
          "name": "stdout",
          "text": [
            "Overwriting /content/drive/MyDrive/Disciplinas/Codes/C/Pilha/pilha_inversao.cpp\n"
          ]
        }
      ]
    },
    {
      "cell_type": "code",
      "source": [
        "! g++ /content/drive/MyDrive/Disciplinas/Codes/C/Pilha/pilha_inversao.cpp -o pilha_inversao"
      ],
      "metadata": {
        "id": "LK29mvv8bpQS"
      },
      "execution_count": null,
      "outputs": []
    },
    {
      "cell_type": "code",
      "source": [
        "! ./pilha_inversao"
      ],
      "metadata": {
        "id": "ek7bPfZrby1b"
      },
      "execution_count": null,
      "outputs": []
    },
    {
      "cell_type": "markdown",
      "source": [
        "PILHA - VERIFICA PALÍNDROMO\n",
        "- Implementação de uma função que verifica se uma palavra é um palíndromo."
      ],
      "metadata": {
        "id": "U-DQEbN0FaD-"
      }
    },
    {
      "cell_type": "code",
      "source": [
        "%%writefile /content/drive/MyDrive/Disciplinas/Codes/C/Pilha/pilha_palindromo.cpp\n",
        "\n",
        "#include <iostream>\n",
        "#include <string>\n",
        "\n",
        "using namespace std;\n",
        "\n",
        "#define MAX_SIZE 20\n",
        "\n",
        "char stack[MAX_SIZE];\n",
        "int tos = -1; // variável indicando pilha vazia\n",
        "\n",
        "// Função para adicionar um elemento na pilha\n",
        "void push(char c)\n",
        "{\n",
        "\tif(tos >= MAX_SIZE - 1){\n",
        "\t\tcout << \"Pilha cheia!\" << endl;\n",
        "\t\treturn;\n",
        "\t}\n",
        "\ttos++;\n",
        "\tstack[tos] = c;\n",
        "}\n",
        "\n",
        "// Função para remover um elemento da pilha\n",
        "char pop()\n",
        "{\n",
        "\tif(tos <= -1){\n",
        "\t\tcout << \"Pilha vazia!\" << endl;\n",
        "\t\treturn 0;\n",
        "\t}\n",
        "\treturn stack[tos--];\n",
        "}\n",
        "\n",
        "void palindromo(const string& input){\n",
        "    size_t meio = int(input.size())/2;\n",
        "    size_t i = 0;\n",
        "    char top;\n",
        "    while(i < meio){\n",
        "        push(input[i]);\n",
        "        i++;\n",
        "    }\n",
        "    if (input.size() % 2 != 0) i++;\n",
        "    while(tos > -1){\n",
        "        top = pop();\n",
        "        if (input[i] != top){\n",
        "            cout << \"A palavra nao e um palindromo\" << endl;\n",
        "            return;\n",
        "        }\n",
        "        i++;\n",
        "    }\n",
        "    cout << \"A palavra e um palindromo\" << endl;\n",
        "}\n",
        "\n",
        "int main() {\n",
        "   int ch, val;\n",
        "   cout << \"-----------Exemplo de Pilhas------------\" << endl;\n",
        "   do {\n",
        "      cout << \"\\n----------------------------------------\" << endl;\n",
        "      cout << \"\\nOpções disponíveis: \" << endl;\n",
        "      cout << \"1) Informar frase a ser invertida\" << endl;\n",
        "      cout << \"2) Sair\" << endl;\n",
        "      cout << \"----------------------------------------\" << endl;\n",
        "      cout << \"\\nDigite o número da operação que deseja realizar: \";\n",
        "      cin >> ch;\n",
        "      cin.ignore(); // Descartar o caractere de nova linha remanescente\n",
        "      cout << \"\\n----------------------------------------\" << endl;\n",
        "      switch(ch) {\n",
        "         case 1:\n",
        "         {\n",
        "            string input;\n",
        "            cout << \"Digite a frase ou palavra a ser invertida: \" << endl;\n",
        "            getline(cin, input);\n",
        "            palindromo(input);\n",
        "            break;\n",
        "         }\n",
        "         case 2:\n",
        "         {\n",
        "            cout << \"Saindo da aplicação...\" << endl;\n",
        "            break;\n",
        "         }\n",
        "         default:\n",
        "            cout << \"Opção inválida!\" << endl;\n",
        "      }\n",
        "    } while(ch!=2);\n",
        "    return 0;\n",
        "}"
      ],
      "metadata": {
        "colab": {
          "base_uri": "https://localhost:8080/"
        },
        "id": "JiDBrOCci8Xp",
        "outputId": "e12c7a47-f876-4163-a000-9103e3eab42c"
      },
      "execution_count": null,
      "outputs": [
        {
          "output_type": "stream",
          "name": "stdout",
          "text": [
            "Overwriting /content/drive/MyDrive/Disciplinas/Codes/C/Pilha/pilha_palindromo.cpp\n"
          ]
        }
      ]
    },
    {
      "cell_type": "code",
      "source": [
        "! g++ /content/drive/MyDrive/Disciplinas/Codes/C/Pilha/pilha_palindromo.cpp -o pilha_palindromo"
      ],
      "metadata": {
        "id": "VVPTWTxFmm27"
      },
      "execution_count": null,
      "outputs": []
    },
    {
      "cell_type": "code",
      "source": [
        "! ./pilha_palindromo"
      ],
      "metadata": {
        "id": "D2xAYuwKmpnL"
      },
      "execution_count": null,
      "outputs": []
    },
    {
      "cell_type": "markdown",
      "source": [
        "PILHA - VERIFICAR SE DUAS PILHAS SÃO IGUAIS\n",
        "-  função para testar se duas pilhas P1 e P2 são iguais.\n",
        "Solução sem ponteiro para a variável tos."
      ],
      "metadata": {
        "id": "ok2NgzzLFrFY"
      }
    },
    {
      "cell_type": "code",
      "source": [
        "%%writefile /content/drive/MyDrive/Disciplinas/Codes/C/Pilha/pilha_verifica_igualdade.cpp\n",
        "\n",
        "#include <iostream>\n",
        "#include <string>\n",
        "\n",
        "using namespace std;\n",
        "\n",
        "#define MAX_SIZE 20\n",
        "\n",
        "// Função para retornar mais de uma variável\n",
        "struct saidas\n",
        "{\n",
        "     char value1;\n",
        "     int value2;\n",
        "};\n",
        "\n",
        "// Função para adicionar um elemento na pilha\n",
        "int push(char stack[], char c, int tos)\n",
        "{\n",
        "\tif(tos >= MAX_SIZE - 1){\n",
        "\t\tcout << \"Pilha cheia!\" << endl;\n",
        "\t\treturn tos;\n",
        "\t}\n",
        "\ttos++;\n",
        "\tstack[tos] = c;\n",
        "  return tos;\n",
        "}\n",
        "\n",
        "// Função para remover um elemento da pilha\n",
        "saidas pop(char stack[], int tos)\n",
        "{\n",
        "\tif(tos <= -1){\n",
        "\t\tcout << \"Pilha vazia!\" << endl;\n",
        "    saidas s = {0, tos};\n",
        "\t\treturn s;\n",
        "\t}\n",
        "  saidas s = {stack[tos], tos - 1};\n",
        "  return s;\n",
        "}\n",
        "\n",
        "int insere_pilha(const string& input, char stack[], int tos){\n",
        "    size_t tam = input.size();\n",
        "    for(size_t i = 0; i < tam; i++){\n",
        "        tos = push(stack, input[i], tos);\n",
        "    }\n",
        "    return tos;\n",
        "}\n",
        "\n",
        "void verifica_igualdade(const string& input, const string& input2, char stack[], char stack2[], int tos, int tos2){\n",
        "    char top, top2;\n",
        "    if (input.size() != input2.size()){\n",
        "        cout << \"As duas pilhas não são iguais!\" << endl;\n",
        "        return;\n",
        "    }\n",
        "    tos = insere_pilha(input, stack, tos);\n",
        "    tos2 = insere_pilha(input2, stack2, tos2);\n",
        "    saidas saida_stack, saida_stack2;\n",
        "    while(tos > -1){\n",
        "        saida_stack = pop(stack,tos);   // saida = stack[tos--], tos\n",
        "        tos = saida_stack.value2;\n",
        "        top = saida_stack.value1;\n",
        "        saida_stack2 = pop(stack2,tos2);\n",
        "        tos2 = saida_stack2.value2;\n",
        "        top2 = saida_stack2.value1;\n",
        "        if (top != top2){\n",
        "            cout << \"As duas pilhas não são iguais!\" << endl;\n",
        "            return;\n",
        "        }\n",
        "    }\n",
        "    cout << \"As pilhas são iguais!\" << endl;\n",
        "    return;\n",
        "}\n",
        "\n",
        "int main() {\n",
        "   int ch;\n",
        "   int tos, tos2;\n",
        "   tos = tos2 = -1; // variável indicando pilha vazia\n",
        "   char stack[MAX_SIZE], stack2[MAX_SIZE];\n",
        "\n",
        "   cout << \"-----------Exemplo de Pilhas------------\" << endl;\n",
        "   do {\n",
        "      cout << \"\\n----------------------------------------\" << endl;\n",
        "      cout << \"\\nOpções disponíveis: \" << endl;\n",
        "      cout << \"1) Informar pilhas\" << endl;\n",
        "      cout << \"2) Sair\" << endl;\n",
        "      cout << \"----------------------------------------\" << endl;\n",
        "      cout << \"\\nDigite a opção: \";\n",
        "      cin >> ch;\n",
        "      cin.ignore(); // Descartar o caractere de nova linha remanescente\n",
        "      cout << \"\\n----------------------------------------\" << endl;\n",
        "      switch(ch) {\n",
        "         case 1:\n",
        "         {\n",
        "            string input, input2;\n",
        "            cout << \"Digite a frase ou palavra: \" << endl;\n",
        "            getline(cin, input);\n",
        "            cout << \"Digite outra frase ou palavra: \" << endl;\n",
        "            getline(cin, input2);\n",
        "            verifica_igualdade(input, input2, stack, stack2, tos, tos2);\n",
        "            break;\n",
        "         }\n",
        "         case 2:\n",
        "         {\n",
        "            cout << \"Saindo da aplicação...\" << endl;\n",
        "            break;\n",
        "         }\n",
        "         default:\n",
        "            cout << \"Opção inválida!\" << endl;\n",
        "      }\n",
        "    } while(ch!=2);\n",
        "    return 0;\n",
        "}"
      ],
      "metadata": {
        "colab": {
          "base_uri": "https://localhost:8080/"
        },
        "id": "EEJ4HSB2FxbH",
        "outputId": "2e2b4334-98c1-4a08-9737-79123698c453"
      },
      "execution_count": 28,
      "outputs": [
        {
          "output_type": "stream",
          "name": "stdout",
          "text": [
            "Overwriting /content/drive/MyDrive/Disciplinas/Codes/C/Pilha/pilha_verifica_igualdade.cpp\n"
          ]
        }
      ]
    },
    {
      "cell_type": "code",
      "source": [
        "!g++ /content/drive/MyDrive/Disciplinas/Codes/C/Pilha/pilha_verifica_igualdade.cpp -o pilha_verifica_igualdade"
      ],
      "metadata": {
        "id": "-KfNzkcchuPe"
      },
      "execution_count": 29,
      "outputs": []
    },
    {
      "cell_type": "code",
      "source": [
        "!./pilha_verifica_igualdade"
      ],
      "metadata": {
        "id": "LISqY0Ueh55U"
      },
      "execution_count": null,
      "outputs": []
    },
    {
      "cell_type": "markdown",
      "source": [
        "PILHA - VERIFICAR SE DUAS PILHAS SÃO IGUAIS\n",
        "-  função para testar se duas pilhas P1 e P2 são iguais.\n",
        "Solução com ponteiro para a variável tos."
      ],
      "metadata": {
        "id": "BvvzARqHjcpO"
      }
    },
    {
      "cell_type": "code",
      "source": [
        "%%writefile /content/drive/MyDrive/Disciplinas/Codes/C/Pilha/pilha_verifica_igualdade.cpp\n",
        "\n",
        "#include <iostream>\n",
        "#include <string>\n",
        "\n",
        "using namespace std;\n",
        "\n",
        "#define MAX_SIZE 20\n",
        "\n",
        "// Função para adicionar um elemento na pilha\n",
        "void push(char stack[], char c, int& tos)\n",
        "{\n",
        "\tif(tos >= MAX_SIZE - 1){\n",
        "\t\tcout << \"Pilha cheia!\" << endl;\n",
        "\t\treturn;\n",
        "\t}\n",
        "\ttos++;\n",
        "\tstack[tos] = c;\n",
        "}\n",
        "\n",
        "// Função para remover um elemento da pilha\n",
        "char pop(char stack[], int& tos)\n",
        "{\n",
        "\tif(tos <= -1){\n",
        "\t\tcout << \"Pilha vazia!\" << endl;\n",
        "\t\treturn 0;\n",
        "\t}\n",
        "\treturn stack[tos--];\n",
        "}\n",
        "\n",
        "void insere_pilha(const string& input, char stack[], int& tos){\n",
        "    size_t tam = input.size();\n",
        "    for(size_t i = 0; i < tam; i++){\n",
        "        push(stack, input[i], tos);\n",
        "    }\n",
        "}\n",
        "\n",
        "void verifica_igualdade(const string& input, const string& input2, char stack[], char stack2[], int& tos, int& tos2){\n",
        "    char top, top2;\n",
        "    if (input.size() != input2.size()){\n",
        "        cout << \"As duas pilhas não são iguais!\" << endl;\n",
        "        return;\n",
        "    }\n",
        "    insere_pilha(input, stack, tos);\n",
        "    insere_pilha(input2, stack2, tos2);\n",
        "    while(tos > -1){\n",
        "        top = pop(stack,tos);\n",
        "        top2 = pop(stack2,tos2);\n",
        "        if (top != top2){\n",
        "            cout << \"As duas pilhas não são iguais!\" << endl;\n",
        "            return;\n",
        "        }\n",
        "    }\n",
        "    cout << \"As pilhas são iguais!\" << endl;\n",
        "}\n",
        "\n",
        "int main() {\n",
        "   int ch;\n",
        "   int tos, tos2;\n",
        "   tos = tos2 = -1; // variável indicando pilha vazia\n",
        "   char stack[MAX_SIZE], stack2[MAX_SIZE];\n",
        "\n",
        "   cout << \"-----------Exemplo de Pilhas------------\" << endl;\n",
        "   do {\n",
        "      cout << \"\\n----------------------------------------\" << endl;\n",
        "      cout << \"\\nOpções disponíveis: \" << endl;\n",
        "      cout << \"1) Informar pilhas\" << endl;\n",
        "      cout << \"2) Sair\" << endl;\n",
        "      cout << \"----------------------------------------\" << endl;\n",
        "      cout << \"\\nDigite a opção: \";\n",
        "      cin >> ch;\n",
        "      cin.ignore(); // Descartar o caractere de nova linha remanescente\n",
        "      cout << \"\\n----------------------------------------\" << endl;\n",
        "      switch(ch) {\n",
        "         case 1:\n",
        "         {\n",
        "            string input, input2;\n",
        "            cout << \"Digite a frase ou palavra: \" << endl;\n",
        "            getline(cin, input);\n",
        "            cout << \"Digite outra frase ou palavra: \" << endl;\n",
        "            getline(cin, input2);\n",
        "            verifica_igualdade(input, input2, stack, stack2, tos, tos2);\n",
        "            break;\n",
        "         }\n",
        "         case 2:\n",
        "         {\n",
        "            cout << \"Saindo da aplicação...\" << endl;\n",
        "            break;\n",
        "         }\n",
        "         default:\n",
        "            cout << \"Opção inválida!\" << endl;\n",
        "      }\n",
        "    } while(ch!=2);\n",
        "    return 0;\n",
        "}"
      ],
      "metadata": {
        "id": "STkt8u_Zjecn"
      },
      "execution_count": null,
      "outputs": []
    },
    {
      "cell_type": "markdown",
      "source": [],
      "metadata": {
        "id": "pJfKRggX-suH"
      }
    }
  ]
}